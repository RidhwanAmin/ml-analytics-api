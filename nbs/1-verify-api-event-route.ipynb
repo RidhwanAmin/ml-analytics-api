{
 "cells": [
  {
   "cell_type": "code",
   "execution_count": 11,
   "id": "9f8cba89",
   "metadata": {},
   "outputs": [],
   "source": [
    "import requests\n",
    "path = \"/api/events\"\n",
    "base_url = \"http://localhost:8002\""
   ]
  },
  {
   "cell_type": "code",
   "execution_count": 15,
   "id": "6c296fbc",
   "metadata": {},
   "outputs": [
    {
     "name": "stdout",
     "output_type": "stream",
     "text": [
      "{'id': 12}\n"
     ]
    }
   ],
   "source": [
    "id = 12\n",
    "endpoint_id = f\"{base_url}{path}/{id}\"\n",
    "response = requests.get(endpoint_id)\n",
    "if response.ok: \n",
    "    data = response.json()\n",
    "    print(data)"
   ]
  },
  {
   "cell_type": "code",
   "execution_count": null,
   "id": "e847590d",
   "metadata": {},
   "outputs": [],
   "source": []
  }
 ],
 "metadata": {
  "kernelspec": {
   "display_name": "venv",
   "language": "python",
   "name": "python3"
  },
  "language_info": {
   "codemirror_mode": {
    "name": "ipython",
    "version": 3
   },
   "file_extension": ".py",
   "mimetype": "text/x-python",
   "name": "python",
   "nbconvert_exporter": "python",
   "pygments_lexer": "ipython3",
   "version": "3.13.5"
  }
 },
 "nbformat": 4,
 "nbformat_minor": 5
}

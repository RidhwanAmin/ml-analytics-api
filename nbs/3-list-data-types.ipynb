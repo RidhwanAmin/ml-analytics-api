{
 "cells": [
  {
   "cell_type": "code",
   "execution_count": 1,
   "id": "3b6f6349",
   "metadata": {},
   "outputs": [],
   "source": [
    "import requests\n",
    "path = \"/api/events\"\n",
    "base_url = \"http://localhost:8002\""
   ]
  },
  {
   "cell_type": "code",
   "execution_count": 2,
   "id": "24821cb6",
   "metadata": {},
   "outputs": [
    {
     "name": "stdout",
     "output_type": "stream",
     "text": [
      "{'results': [{'id': 12}, {'id': 34}, {'id': 56}]}\n"
     ]
    }
   ],
   "source": [
    "endpoint_id = f\"{base_url}{path}/\"\n",
    "response = requests.get(endpoint_id)\n",
    "if response.ok: \n",
    "    data = response.json()\n",
    "    print(data)"
   ]
  },
  {
   "cell_type": "code",
   "execution_count": 46,
   "id": "acea066a",
   "metadata": {},
   "outputs": [],
   "source": [
    "import json \n",
    "data = {\n",
    "    \"page\": \"/+tests\"\n",
    "}\n"
   ]
  },
  {
   "cell_type": "code",
   "execution_count": 54,
   "id": "fc4247f9",
   "metadata": {},
   "outputs": [
    {
     "name": "stdout",
     "output_type": "stream",
     "text": [
      "<class 'dict'>\n"
     ]
    }
   ],
   "source": [
    "endpoint_id = f\"{base_url}{path}\"\n",
    "headers = {\n",
    "    \"Content-Type\": \"application/json\"\n",
    "}\n",
    "json_data = json.dumps(data)\n",
    "response = requests.post(endpoint_id, data=json_data, headers=headers)\n",
    "print(type(response.json()))"
   ]
  },
  {
   "cell_type": "code",
   "execution_count": 68,
   "id": "66c92cf3",
   "metadata": {},
   "outputs": [],
   "source": [
    "import json \n",
    "id = 123\n",
    "data = {\n",
    "    'id' : f'{id}'\n",
    "}\n",
    "endpoint_id = f\"{base_url}{path}\"\n",
    "json_data = json.dumps(data)\n",
    "response = requests.post(endpoint_id, data=json_data)\n",
    "if response.ok: \n",
    "    data = response.json()\n",
    "    print(data)"
   ]
  },
  {
   "cell_type": "code",
   "execution_count": 7,
   "id": "509d371c",
   "metadata": {},
   "outputs": [
    {
     "ename": "NameError",
     "evalue": "name 'json' is not defined",
     "output_type": "error",
     "traceback": [
      "\u001b[31m---------------------------------------------------------------------------\u001b[39m",
      "\u001b[31mNameError\u001b[39m                                 Traceback (most recent call last)",
      "\u001b[36mCell\u001b[39m\u001b[36m \u001b[39m\u001b[32mIn[7]\u001b[39m\u001b[32m, line 8\u001b[39m\n\u001b[32m      2\u001b[39m headers = {\n\u001b[32m      3\u001b[39m     \u001b[33m\"\u001b[39m\u001b[33mContent-Type\u001b[39m\u001b[33m\"\u001b[39m: \u001b[33m\"\u001b[39m\u001b[33mapplication/json\u001b[39m\u001b[33m\"\u001b[39m\n\u001b[32m      4\u001b[39m }\n\u001b[32m      5\u001b[39m data = {\n\u001b[32m      6\u001b[39m     \u001b[33m'\u001b[39m\u001b[33mpage\u001b[39m\u001b[33m'\u001b[39m: \u001b[33m\"\u001b[39m\u001b[33m/+tests\u001b[39m\u001b[33m\"\u001b[39m\n\u001b[32m      7\u001b[39m }\n\u001b[32m----> \u001b[39m\u001b[32m8\u001b[39m response = requests.post(endpoint_id, data=\u001b[43mjson\u001b[49m.dumps(data), headers=headers)\n\u001b[32m      9\u001b[39m \u001b[38;5;28;01mif\u001b[39;00m response.ok: \n\u001b[32m     10\u001b[39m     data = response.json()\n",
      "\u001b[31mNameError\u001b[39m: name 'json' is not defined"
     ]
    }
   ],
   "source": [
    "endpoint_id = f\"{base_url}{path}/\"\n",
    "headers = {\n",
    "    \"Content-Type\": \"application/json\"\n",
    "}\n",
    "data = {\n",
    "    'page': \"/+tests\"\n",
    "}\n",
    "response = requests.post(endpoint_id, data=json.dumps(data), headers=headers)\n",
    "if response.ok: \n",
    "    data = response.json()\n",
    "    print(data)\n",
    "else: \n",
    "    print(response.text )"
   ]
  },
  {
   "cell_type": "code",
   "execution_count": 1,
   "id": "7c0c93e7",
   "metadata": {},
   "outputs": [
    {
     "name": "stdout",
     "output_type": "stream",
     "text": [
      "{'id': 123, 'page': '/+tests', 'description': 'Description of the event'}\n"
     ]
    }
   ],
   "source": [
    "import requests\n",
    "path = \"/api/events\"\n",
    "base_url = \"http://localhost:8002\"\n",
    "\n",
    "endpoint_id = f\"{base_url}{path}/\"\n",
    "headers = {\n",
    "    \"Content-Type\": \"application/json\"\n",
    "}\n",
    "data = {\n",
    "    'page': \"/+tests\", \n",
    "}\n",
    "response = requests.post(endpoint_id, json=data)\n",
    "if response.ok: \n",
    "    data = response.json()\n",
    "    print(data)\n",
    "else: \n",
    "    print(response.text )"
   ]
  },
  {
   "cell_type": "code",
   "execution_count": 104,
   "id": "976d3036",
   "metadata": {},
   "outputs": [
    {
     "name": "stdout",
     "output_type": "stream",
     "text": [
      "http://localhost:8002/api/events/123/\n",
      "{'id': 123, 'page': None, 'description': 'Updated description'} None\n"
     ]
    }
   ],
   "source": [
    "import json \n",
    "\n",
    "endpoint_id = f\"{base_url}{path}/{id}/\"\n",
    "print(endpoint_id)\n",
    "response = requests.put(endpoint_id, json={\"description\":\"Updated description\"})\n",
    "if response.ok: \n",
    "    data = response.json()\n",
    "    print(data, data.get(\"items\"))\n",
    "else: \n",
    "    print(response.text )"
   ]
  },
  {
   "cell_type": "code",
   "execution_count": 3,
   "id": "b60d051d",
   "metadata": {},
   "outputs": [],
   "source": [
    "import psycopg\n",
    "# POSTGRES_USER: fastapi_user\n",
    "# POSTGRES_PASSWORD: fastapi_password\n",
    "# POSTGRES_DB: fastapi_db\n",
    "def postgres_test():\n",
    "\n",
    "    try:\n",
    "        conn = psycopg.connect(\"dbname='fastapi_db' user='fastapi_user' host='0.0.0.0' password='fastapi_password' connect_timeout=1 \")\n",
    "        conn.close()\n",
    "        return True\n",
    "    except:\n",
    "        return False"
   ]
  },
  {
   "cell_type": "code",
   "execution_count": 4,
   "id": "6e8303ff",
   "metadata": {},
   "outputs": [
    {
     "data": {
      "text/plain": [
       "True"
      ]
     },
     "execution_count": 4,
     "metadata": {},
     "output_type": "execute_result"
    }
   ],
   "source": [
    "postgres_test()"
   ]
  }
 ],
 "metadata": {
  "kernelspec": {
   "display_name": "venv",
   "language": "python",
   "name": "python3"
  },
  "language_info": {
   "codemirror_mode": {
    "name": "ipython",
    "version": 3
   },
   "file_extension": ".py",
   "mimetype": "text/x-python",
   "name": "python",
   "nbconvert_exporter": "python",
   "pygments_lexer": "ipython3",
   "version": "3.13.5"
  }
 },
 "nbformat": 4,
 "nbformat_minor": 5
}
